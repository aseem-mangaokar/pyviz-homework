{
 "cells": [
  {
   "cell_type": "markdown",
   "metadata": {},
   "source": [
    "# San Francisco Rental Prices Dashboard\n",
    "\n",
    "In this notebook, you will compile the visualizations from the previous analysis into functions that can be used for a Panel dashboard."
   ]
  },
  {
   "cell_type": "code",
   "execution_count": null,
   "metadata": {},
   "outputs": [],
   "source": [
    "# imports\n",
    "import panel as pn\n",
    "import numpy as np\n",
    "pn.extension('plotly')\n",
    "import plotly.express as px\n",
    "import pandas as pd\n",
    "import hvplot.pandas\n",
    "import matplotlib.pyplot as plt\n",
    "import os\n",
    "from pathlib import Path\n",
    "from dotenv import load_dotenv\n",
    "%matplotlib inline"
   ]
  },
  {
   "cell_type": "code",
   "execution_count": null,
   "metadata": {},
   "outputs": [],
   "source": [
    "# Read the Mapbox API key\n",
    "load_dotenv()\n",
    "map_box_api = os.getenv(\"MAPBOX_API_KEY\")\n",
    "px.set_mapbox_access_token(map_box_api)"
   ]
  },
  {
   "cell_type": "markdown",
   "metadata": {},
   "source": [
    "# Import Data"
   ]
  },
  {
   "cell_type": "code",
   "execution_count": null,
   "metadata": {},
   "outputs": [],
   "source": [
    "# Import the necessary CSVs to Pandas DataFrames\n",
    "file_path = Path(\"Data/sfo_neighborhoods_census_data.csv\")\n",
    "sfo_data = pd.read_csv(file_path, index_col=\"year\")\n",
    "\n",
    "\n",
    "coordinates_path = Path('Data/neighborhoods_coordinates.csv')\n",
    "coordinates_df = pd.read_csv(coordinates_path)"
   ]
  },
  {
   "cell_type": "markdown",
   "metadata": {},
   "source": [
    "- - -"
   ]
  },
  {
   "cell_type": "markdown",
   "metadata": {},
   "source": [
    "## Panel Visualizations\n",
    "\n",
    "In this section, you will copy the code for each plot type from your analysis notebook and place it into separate functions that Panel can use to create panes for the dashboard. \n",
    "\n",
    "These functions will convert the plot object to a Panel pane.\n",
    "\n",
    "Be sure to include any DataFrame transformation/manipulation code required along with the plotting code.\n",
    "\n",
    "Return a Panel pane object from each function that can be used to build the dashboard.\n",
    "\n",
    "Note: Remove any `.show()` lines from the code. We want to return the plots instead of showing them. The Panel dashboard will then display the plots."
   ]
  },
  {
   "cell_type": "code",
   "execution_count": null,
   "metadata": {},
   "outputs": [],
   "source": [
    "# Define Panel Visualization Functions\n",
    "def housing_units_per_year():\n",
    "    housing_units = sfo_data.groupby('year').mean()\n",
    "\n",
    "    avg_housing = housing_units.drop(['sale_price_sqr_foot', 'gross_rent'], axis=1)\n",
    "    min = avg_housing.min()['housing_units']\n",
    "    max = avg_housing.max()['housing_units']\n",
    "    \n",
    "    avg_housing_plot = avg_housing.hvplot.bar(ylim =(min-5000, max+5000), \n",
    "                                             title = \"Mean Housing Units in SF from 2010 to 2016\", \n",
    "                                             figsize = (8,4), \n",
    "                                             rot = 45)\n",
    "    avg_housing_pane = pn.panel(avg_housing_plot)\n",
    "    \n",
    "    return avg_housing_pane\n",
    "\n",
    "\n",
    "def average_gross_rent():\n",
    "    avg_gross_rent = sfo_data['gross_rent'].groupby([sfo_data.index]).mean()\n",
    "    \n",
    "    avg_gross_rent_plot = avg_gross_rent.hvplot.line(title=\"Average Gross Rent by Year\", figsize = (8,4))\n",
    "    \n",
    "    avg_rent_pane = pn.panel(avg_gross_rent_plot)\n",
    "\n",
    "    return avg_rent_pane\n",
    "\n",
    "def average_sales_price():\n",
    "    avg_price_per_sqr_foot = sfo_data['sale_price_sqr_foot'].groupby([sfo_data.index]).mean()\n",
    "    \n",
    "    sqr_foot_plot = avg_price_per_sqr_foot.hvplot.line(title= 'Average Price per SqFt by Year',  figsize =  (8,4))\n",
    "    \n",
    "    sqr_foot_pane = pn.panel(sqr_foot_plot)\n",
    "    \n",
    "    return sqr_foot_pane\n",
    "\n",
    "\n",
    "def average_price_by_neighborhood():\n",
    "    \"\"\"Average Prices by Neighborhood.\"\"\"\n",
    "    sfo_data_nbhd = sfo_data.groupby([sfo_data.index, 'neighborhood']).mean()\n",
    "    sfo_data_nbhd.reset_index(inplace = True)\n",
    "    \n",
    "    by_nbhd_plot = sfo_data_nbhd.hvplot.line(\n",
    "        'year',\n",
    "        'sale_price_sqr_foot',\n",
    "        xlabel= 'year',\n",
    "        ylabel= 'Avg. Sale Price per Square Foot',\n",
    "        groupby= 'neighborhood',\n",
    "        title = \"Average Sale Price Per SqFt by Neighborhood by Year\")\n",
    "    \n",
    "    by_nbhd_pane = pn.panel(by_nbhd_plot)\n",
    "\n",
    "    return by_nbhd_pane\n",
    "\n",
    "def top_most_expensive_neighborhoods():\n",
    "    \"\"\"Top 10 Most Expensive Neighborhoods.\"\"\"\n",
    "    \n",
    "    expensive_nbhd = sfo_data.groupby('neighborhood').mean()\n",
    "    expensive_nbhd = expensive_nbhd.sort_values(by = 'sale_price_sqr_foot', ascending = False).head(10)\n",
    "    expensive_nbhd.reset_index(inplace=True)\n",
    "    \n",
    "    expensive_plot = expensive_nbhd.hvplot.bar(\n",
    "        'neighborhood',\n",
    "        'sale_price_sqr_foot',\n",
    "        title = \"Average Sale Price from Top 10 Expensive Neighborhoods in SF\",\n",
    "        xlabel = 'Neighborhood',\n",
    "        ylabel = 'Avg Sale Price per Square Foot',\n",
    "        height = 400,\n",
    "        width = 600,\n",
    "        rot = 90)\n",
    "    \n",
    "    exp_pane = pn.panel(expensive_plot)\n",
    "    \n",
    "    return exp_pane\n",
    "\n",
    "def most_expensive_neighborhoods_rent_sales():\n",
    "    \"\"\"Comparison of Rent and Sales Prices of Most Expensive Neighborhoods.\"\"\"   \n",
    "    \n",
    "    expensive_nbhd = sfo_data.groupby('neighborhood').mean()\n",
    "    expensive_nbhd = expensive_nbhd.sort_values(by = 'sale_price_sqr_foot', ascending = False).head(10)\n",
    "    expensive_nbhd.reset_index(inplace=True)\n",
    "    \n",
    "    exp_nbhd1 = sfo_data[(sfo_data['neighborhood'].isin(expensive_nbhd['neighborhood']))]\n",
    "    sidebyside_stacked = exp_nbhd1.hvplot.bar(x = 'year', \n",
    "                                          y = ['sale_price_sqr_foot', 'gross_rent'], \n",
    "                                          xlabel = 'Year',\n",
    "                                          title = 'Sales Price vs. Gross Rent in Top 10 Neighborhoods',\n",
    "                                          legend = ('top_left'),\n",
    "                                          height = 400,\n",
    "                                          width = 600,\n",
    "                                          rot = 90,\n",
    "                                          groupby = 'neighborhood')\n",
    "\n",
    "    sidebyside_stacked_panel = pn.panel(sidebyside_stacked) \n",
    "\n",
    "    return sidebyside_stacked_panel\n",
    "\n",
    "    \n",
    "    \n",
    "def parallel_coordinates():\n",
    "    \"\"\"Parallel Coordinates Plot.\"\"\"\n",
    "    expensive_nbhd = sfo_data.groupby('neighborhood').mean()\n",
    "    expensive_nbhd = expensive_nbhd.sort_values(by = 'sale_price_sqr_foot', ascending = False).head(10)\n",
    "    expensive_nbhd.reset_index(inplace=True)\n",
    "    nbhd_df = sfo_data.groupby(by='neighborhood').mean()\n",
    "    nbhd_df = nbhd_df.sort_values(by='neighborhood')\n",
    "    nbhd_df.reset_index(inplace = True)\n",
    "    exp_nbhd2 = nbhd_df[(nbhd_df['neighborhood'].isin(expensive_nbhd['neighborhood']))]\n",
    "    \n",
    "    \n",
    "    p_coord_plot = px.parallel_coordinates(\n",
    "        exp_nbhd2,\n",
    "        dimensions= ['neighborhood', 'sale_price_sqr_foot', 'housing_units', 'gross_rent'],\n",
    "        color = 'sale_price_sqr_foot',\n",
    "        color_continuous_scale = px.colors.sequential.Inferno,\n",
    "        title = 'Parallel Coordinates Analysis of Most Expensive Neighborhoods in SF',\n",
    "        labels= {'neighborhood': \"Neighborhood\",\n",
    "            'sale_price_sqr_foot': 'Sale Price per SqFt',\n",
    "            'housing_units': 'Housing Units',\n",
    "            'gross_rent': 'Gross Rent'})\n",
    "    \n",
    "    return p_coord_plot\n",
    "\n",
    "def parallel_categories():\n",
    "    \"\"\"Parallel Categories Plot.\"\"\"\n",
    "    expensive_nbhd = sfo_data.groupby('neighborhood').mean()\n",
    "    expensive_nbhd = expensive_nbhd.sort_values(by = 'sale_price_sqr_foot', ascending = False).head(10)\n",
    "    expensive_nbhd.reset_index(inplace=True)\n",
    "    nbhd_df = sfo_data.groupby(by='neighborhood').mean()\n",
    "    nbhd_df = nbhd_df.sort_values(by='neighborhood')\n",
    "    nbhd_df.reset_index(inplace = True)\n",
    "    exp_nbhd2 = nbhd_df[(nbhd_df['neighborhood'].isin(expensive_nbhd['neighborhood']))]\n",
    "    \n",
    "    p_cat_plot = px.parallel_categories(\n",
    "        exp_nbhd2,\n",
    "        dimensions= ['neighborhood', 'sale_price_sqr_foot', 'housing_units', 'gross_rent'],\n",
    "        color = 'sale_price_sqr_foot',\n",
    "        color_continuous_scale = px.colors.sequential.Inferno,\n",
    "        title = 'Parallel Categories Analysis of Most Expensive Neighborhoods in SF',\n",
    "        labels= {'neighborhood': \"Neighborhood\",\n",
    "            'sale_price_sqr_foot': 'Sale Price per SqFt',\n",
    "            'housing_units': 'Housing Units',\n",
    "            'gross_rent': 'Gross Rent'})\n",
    "    \n",
    "    return p_cat_plot\n",
    "\n",
    "\n",
    "def neighborhood_map():\n",
    "    \"\"\"Neighborhood Map.\"\"\"\n",
    "    nbhd_df = sfo_data.groupby(by='neighborhood').mean()\n",
    "    nbhd_df = nbhd_df.sort_values(by='neighborhood')\n",
    "    nbhd_df.reset_index(inplace = True)\n",
    "    nbhd_all_df = pd.concat([coordinates_df, \n",
    "                         nbhd_df['sale_price_sqr_foot'],\n",
    "                        nbhd_df['housing_units'],\n",
    "                        nbhd_df['gross_rent']\n",
    "                        ], axis=1).dropna()\n",
    "    \n",
    "    px.set_mapbox_access_token(map_box_api)\n",
    "    map = px.scatter_mapbox(\n",
    "    nbhd_all_df,\n",
    "    lat = 'Lat',\n",
    "    lon = 'Lon',\n",
    "    size = 'sale_price_sqr_foot',\n",
    "    color = 'gross_rent',\n",
    "    color_continuous_scale = px.colors.cyclical.IceFire,\n",
    "    size_max = 15,\n",
    "    zoom = 10,\n",
    "    hover_name = \"Neighborhood\",\n",
    "    title = \"Average Sale Price Per Square Foot and Gross Rent in San Francisco\")\n",
    "    \n",
    "    return map\n",
    "\n",
    "def sunburst():\n",
    "    \"\"\"Sunburst Plot.\"\"\"\n",
    "    expensive_nbhd = sfo_data.groupby('neighborhood').mean()\n",
    "    expensive_nbhd = expensive_nbhd.sort_values(by = 'sale_price_sqr_foot', ascending = False).head(10)\n",
    "    expensive_nbhd.reset_index(inplace=True)\n",
    "    nbhd_df = sfo_data.groupby(by='neighborhood').mean()\n",
    "    nbhd_df = nbhd_df.sort_values(by='neighborhood')\n",
    "    nbhd_df.reset_index(inplace = True)\n",
    "    exp_nbhd1 = sfo_data[(sfo_data['neighborhood'].isin(expensive_nbhd['neighborhood']))]\n",
    "    exp_nbhd2 = nbhd_df[(nbhd_df['neighborhood'].isin(expensive_nbhd['neighborhood']))]\n",
    "    \n",
    "    sunburst_plot = px.sunburst(exp_nbhd1, path=[exp_nbhd1.index, 'neighborhood'], values='sale_price_sqr_foot',\n",
    "                           color='gross_rent', hover_data=['neighborhood'],\n",
    "                           color_continuous_scale='RdBu',\n",
    "                           color_continuous_midpoint=np.average(exp_nbhd1['gross_rent'], weights=exp_nbhd1['gross_rent']),\n",
    "                           title = \"Costs Analysis of Most Expensive Neighborhoods in San Francisco per Year\")\n",
    "    return sunburst_plot"
   ]
  },
  {
   "cell_type": "markdown",
   "metadata": {},
   "source": [
    "## Panel Dashboard\n",
    "\n",
    "In this section, you will combine all of the plots into a single dashboard view using Panel. Be creative with your dashboard design!"
   ]
  },
  {
   "cell_type": "code",
   "execution_count": null,
   "metadata": {},
   "outputs": [],
   "source": [
    "# Create a Title for the Dashboard\n",
    "dash_title = pn.pane.Markdown(\n",
    "    \"\"\"\n",
    "    #Analysis of Real Estate Value in San Francisco from 2010 to 2016\n",
    "    \"\"\",\n",
    "    width = 600,\n",
    ")\n",
    "\n",
    "dash_welcome = pn.pane.Markdown(\n",
    "    \"\"\"\"This dashboard provides visual analysis of trends in the value of real estate value in San Francisco. \n",
    "    Navigating through the tabs allows you to view the changes in sale price per square foot, number of housing units, \n",
    "    and gross rental income per month in various neighborhoods in the city. \"\"\"\n",
    ")\n",
    "\n",
    "\n",
    "# Create a tab layout for the dashboard\n",
    "\n",
    "\n",
    "\n",
    "tabs = pn.Tabs(\n",
    "    ('Welcome', pn.Column(dash_title, dash_welcome, neighborhood_map())),\n",
    "    ('Value Analysis 2010-2016', pn.Column(housing_units_per_year() ,average_gross_rent(), average_sales_price())),\n",
    "    ('Value Analysis by Neighborhood', pn.Column(average_price_by_neighborhood(),)),\n",
    "    ('Value Analysis of Most Expensive Neighborhoods', pn.Column(most_expensive_neighborhoods_rent_sales())),\n",
    "    ('Parallel Plots Analysis', pn.Column(parallel_categories(), parallel_coordinates())),\n",
    "    ('Sunburst View', pn.Column(sunburst())))\n",
    "    \n",
    "\n",
    "\n",
    "\n",
    "# Create the dashboard\n",
    "\n",
    "panel = pn.Column(dash_title, tabs, width = 1200)\n"
   ]
  },
  {
   "cell_type": "markdown",
   "metadata": {},
   "source": [
    "## Serve the Panel Dashboard"
   ]
  },
  {
   "cell_type": "code",
   "execution_count": null,
   "metadata": {},
   "outputs": [],
   "source": [
    "# Serve the# dashboard\n",
    "panel.servable()"
   ]
  },
  {
   "cell_type": "markdown",
   "metadata": {},
   "source": [
    "# Debugging\n",
    "\n",
    "Note: Some of the Plotly express plots may not render in the notebook through the panel functions.\n",
    "\n",
    "However, you can test each plot by uncommenting the following code"
   ]
  },
  {
   "cell_type": "code",
   "execution_count": null,
   "metadata": {},
   "outputs": [],
   "source": [
    "housing_units_per_year()"
   ]
  },
  {
   "cell_type": "code",
   "execution_count": null,
   "metadata": {},
   "outputs": [],
   "source": [
    "average_gross_rent()"
   ]
  },
  {
   "cell_type": "code",
   "execution_count": null,
   "metadata": {},
   "outputs": [],
   "source": [
    "average_sales_price()"
   ]
  },
  {
   "cell_type": "code",
   "execution_count": null,
   "metadata": {},
   "outputs": [],
   "source": [
    "average_price_by_neighborhood()"
   ]
  },
  {
   "cell_type": "code",
   "execution_count": null,
   "metadata": {},
   "outputs": [],
   "source": [
    "top_most_expensive_neighborhoods()"
   ]
  },
  {
   "cell_type": "code",
   "execution_count": null,
   "metadata": {},
   "outputs": [],
   "source": [
    "most_expensive_neighborhoods_rent_sales()"
   ]
  },
  {
   "cell_type": "code",
   "execution_count": null,
   "metadata": {},
   "outputs": [],
   "source": [
    "neighborhood_map().show()"
   ]
  },
  {
   "cell_type": "code",
   "execution_count": null,
   "metadata": {},
   "outputs": [],
   "source": [
    "parallel_categories()"
   ]
  },
  {
   "cell_type": "code",
   "execution_count": null,
   "metadata": {},
   "outputs": [],
   "source": [
    "parallel_coordinates()"
   ]
  },
  {
   "cell_type": "code",
   "execution_count": null,
   "metadata": {},
   "outputs": [],
   "source": [
    "sunburst()"
   ]
  },
  {
   "cell_type": "code",
   "execution_count": null,
   "metadata": {},
   "outputs": [],
   "source": []
  }
 ],
 "metadata": {
  "file_extension": ".py",
  "kernelspec": {
   "display_name": "Python [conda env:.conda-pyvizenv] *",
   "language": "python",
   "name": "conda-env-.conda-pyvizenv-py"
  },
  "language_info": {
   "codemirror_mode": {
    "name": "ipython",
    "version": 3
   },
   "file_extension": ".py",
   "mimetype": "text/x-python",
   "name": "python",
   "nbconvert_exporter": "python",
   "pygments_lexer": "ipython3",
   "version": "3.7.10"
  },
  "mimetype": "text/x-python",
  "name": "python",
  "npconvert_exporter": "python",
  "pygments_lexer": "ipython3",
  "version": 3
 },
 "nbformat": 4,
 "nbformat_minor": 4
}
