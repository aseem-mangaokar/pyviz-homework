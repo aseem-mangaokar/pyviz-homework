{
 "cells": [
  {
   "cell_type": "markdown",
   "metadata": {},
   "source": [
    "# San Francisco Housing Cost Analysis\n",
    "\n",
    "In this assignment, you will perform fundamental analysis for the San Francisco housing market to allow potential real estate investors to choose rental investment properties."
   ]
  },
  {
   "cell_type": "code",
   "execution_count": null,
   "metadata": {},
   "outputs": [],
   "source": [
    "# imports\n",
    "import panel as pn\n",
    "pn.extension('plotly')\n",
    "import plotly.express as px\n",
    "import pandas as pd\n",
    "\n",
    "import hvplot.pandas\n",
    "import matplotlib.pyplot as plt\n",
    "import numpy as np\n",
    "import os\n",
    "from pathlib import Path\n",
    "from dotenv import load_dotenv\n",
    "from ipywidgets import interact, interactive, fixed, interact_manual\n",
    "\n",
    "%matplotlib inline\n",
    "import warnings\n",
    "warnings.filterwarnings('ignore')"
   ]
  },
  {
   "cell_type": "code",
   "execution_count": null,
   "metadata": {},
   "outputs": [],
   "source": [
    "# Read the Mapbox API key\n",
    "load_dotenv()"
   ]
  },
  {
   "cell_type": "code",
   "execution_count": null,
   "metadata": {},
   "outputs": [],
   "source": [
    "map_box_api = os.getenv(\"MAPBOX_API_KEY\")"
   ]
  },
  {
   "cell_type": "markdown",
   "metadata": {},
   "source": [
    "## Load Data"
   ]
  },
  {
   "cell_type": "code",
   "execution_count": null,
   "metadata": {},
   "outputs": [],
   "source": [
    "# Read the census data into a Pandas DataFrame\n",
    "file_path = Path(\"Data/sfo_neighborhoods_census_data.csv\")\n",
    "sfo_data = pd.read_csv(file_path, index_col=\"year\")\n",
    "sfo_data.head()"
   ]
  },
  {
   "cell_type": "markdown",
   "metadata": {},
   "source": [
    "- - - "
   ]
  },
  {
   "cell_type": "markdown",
   "metadata": {},
   "source": [
    "## Housing Units Per Year\n",
    "\n",
    "In this section, you will calculate the number of housing units per year and visualize the results as a bar chart using the Pandas plot function.\n",
    "\n",
    "**Hint:** Use the Pandas `groupby` function.\n",
    "\n",
    "**Optional challenge:** Use the min, max, and std to scale the y limits of the chart.\n",
    "\n"
   ]
  },
  {
   "cell_type": "code",
   "execution_count": null,
   "metadata": {},
   "outputs": [],
   "source": [
    "# Calculate the mean number of housing units per year (hint: use groupby) \n",
    "housing_units = sfo_data.groupby('year').mean()\n",
    "\n",
    "avg_housing = housing_units.drop(['sale_price_sqr_foot', 'gross_rent'], axis=1)\n",
    "avg_housing"
   ]
  },
  {
   "cell_type": "code",
   "execution_count": null,
   "metadata": {},
   "outputs": [],
   "source": [
    "# Save the dataframe as a csv file\n",
    "avg_housing.to_csv('mean housing units per year.csv')"
   ]
  },
  {
   "cell_type": "code",
   "execution_count": null,
   "metadata": {},
   "outputs": [],
   "source": [
    "# Use the Pandas plot function to plot the average housing units per year.\n",
    "# Note: You will need to manually adjust the y limit of the chart using the min and max values from above.\n",
    "min = avg_housing.min()['housing_units']\n",
    "max = avg_housing.max()['housing_units']\n",
    "\n",
    "avg_housing.plot.bar(ylim =(min-5000, max+5000), \n",
    "                     title = \"Mean Housing Units in SF from 2010 to 2016\", \n",
    "                     figsize = (8,4), \n",
    "                     rot = 45)"
   ]
  },
  {
   "cell_type": "markdown",
   "metadata": {},
   "source": [
    "- - - "
   ]
  },
  {
   "cell_type": "markdown",
   "metadata": {},
   "source": [
    "## Average Housing Costs in San Francisco Per Year\n",
    "\n",
    "In this section, you will calculate the average monthly rent and the average price per square foot for each year. An investor may wish to better understand the sales price of the rental property over time. For example, a customer will want to know if they should expect an increase or decrease in the property value over time so they can determine how long to hold the rental property.  Plot the results as two line charts.\n",
    "\n",
    "**Optional challenge:** Plot each line chart in a different color."
   ]
  },
  {
   "cell_type": "code",
   "execution_count": null,
   "metadata": {},
   "outputs": [],
   "source": [
    "# Calculate the average sale price per square foot and average gross rent\n",
    "avg_price_per_sqr_foot = sfo_data['sale_price_sqr_foot'].groupby([sfo_data.index]).mean()\n",
    "\n",
    "avg_gross_rent = sfo_data['gross_rent'].groupby([sfo_data.index]).mean()\n",
    "\n"
   ]
  },
  {
   "cell_type": "code",
   "execution_count": null,
   "metadata": {},
   "outputs": [],
   "source": [
    "# Create two line charts, one to plot the average sale price per square foot and another for average montly rent\n",
    "\n",
    "# Line chart for average sale price per square foot\n",
    "avg_price_per_sqr_foot.hvplot.line(title= 'Average Price per SqFt by Year',  figsize =  (8,4))"
   ]
  },
  {
   "cell_type": "code",
   "execution_count": null,
   "metadata": {},
   "outputs": [],
   "source": [
    "# Line chart for average montly rent\n",
    "avg_gross_rent.hvplot.line(title=\"Average Gross Rent by Year\", figsize = (8,4))"
   ]
  },
  {
   "cell_type": "markdown",
   "metadata": {},
   "source": [
    "- - - "
   ]
  },
  {
   "cell_type": "markdown",
   "metadata": {},
   "source": [
    "## Average Prices by Neighborhood\n",
    "\n",
    "In this section, you will use hvplot to create two interactive visulizations of average prices with a dropdown selector for the neighborhood. The first visualization will be a line plot showing the trend of average price per square foot over time for each neighborhood.  The second will be a line plot showing the trend of average montly rent over time for each neighborhood.\n",
    "\n",
    "**Hint:** It will be easier to create a new DataFrame from grouping the data and calculating the mean prices for each year and neighborhood"
   ]
  },
  {
   "cell_type": "code",
   "execution_count": null,
   "metadata": {},
   "outputs": [],
   "source": [
    "# Group by year and neighborhood and then create a new dataframe of the mean values\n",
    "sfo_data_nbhd = sfo_data.groupby([sfo_data.index, 'neighborhood']).mean()\n",
    "sfo_data_nbhd.reset_index(inplace = True)\n",
    "sfo_data_nbhd.head()"
   ]
  },
  {
   "cell_type": "code",
   "execution_count": null,
   "metadata": {},
   "outputs": [],
   "source": [
    "# Use hvplot to create an interactive line chart of the average price per sq ft.\n",
    "# The plot should have a dropdown selector for the neighborhood\n",
    "\n",
    "sfo_data_nbhd.hvplot.line(\n",
    "    'year',\n",
    "    'sale_price_sqr_foot',\n",
    "    xlabel= 'year',\n",
    "    ylabel= 'Avg. Sale Price per Square Foot',\n",
    "    groupby= 'neighborhood',\n",
    "    title = \"Average Sale Price Per SqFt by Neighborhood by Year\"\n",
    ")"
   ]
  },
  {
   "cell_type": "code",
   "execution_count": null,
   "metadata": {},
   "outputs": [],
   "source": [
    "# Use hvplot to create an interactive line chart of the average monthly rent.\n",
    "# The plot should have a dropdown selector for the neighborhood\n",
    "sfo_data_nbhd.hvplot.line(\n",
    "    'year',\n",
    "    'gross_rent',\n",
    "    xlabel= 'year',\n",
    "    ylabel= 'Avg. Sale Price per Square Foot',\n",
    "    groupby= 'neighborhood',\n",
    "    title = \"Average Rent by Neighborhood by Year\"\n",
    ")"
   ]
  },
  {
   "cell_type": "markdown",
   "metadata": {},
   "source": [
    "## The Top 10 Most Expensive Neighborhoods\n",
    "\n",
    "In this section, you will need to calculate the mean sale price per square foot for each neighborhood and then sort the values to obtain the top 10 most expensive neighborhoods on average. Plot the results as a bar chart."
   ]
  },
  {
   "cell_type": "code",
   "execution_count": null,
   "metadata": {},
   "outputs": [],
   "source": [
    "# Getting the data from the top 10 expensive neighborhoods to own\n",
    "expensive_nbhd = sfo_data.groupby('neighborhood').mean()\n",
    "expensive_nbhd = expensive_nbhd.sort_values(by = 'sale_price_sqr_foot', ascending = False).head(10)\n",
    "expensive_nbhd.reset_index(inplace=True)"
   ]
  },
  {
   "cell_type": "code",
   "execution_count": null,
   "metadata": {},
   "outputs": [],
   "source": [
    "# Plotting the data from the top 10 expensive neighborhoods\n",
    "expensive_nbhd.hvplot.bar(\n",
    "    'neighborhood',\n",
    "    'sale_price_sqr_foot',\n",
    "    title = \"Average Sale Price from Top 10 Expensive Neighborhoods in SF\",\n",
    "    xlabel = 'Neighborhood',\n",
    "    ylabel = 'Avg Sale Price per Square Foot',\n",
    "    height = 350,\n",
    "    width  = 600,\n",
    "    rot = 90)"
   ]
  },
  {
   "cell_type": "markdown",
   "metadata": {},
   "source": [
    "- - - "
   ]
  },
  {
   "cell_type": "markdown",
   "metadata": {},
   "source": [
    "## Comparing cost to purchase versus rental income\n",
    "\n",
    "In this section, you will use `hvplot` to create an interactive visualization with a dropdown selector for the neighborhood. This visualization will feature a side-by-side comparison of average price per square foot versus average montly rent by year.  \n",
    "\n",
    "**Hint:** Use the `hvplot` parameter, `groupby`, to create a dropdown selector for the neighborhood."
   ]
  },
  {
   "cell_type": "code",
   "execution_count": null,
   "metadata": {},
   "outputs": [],
   "source": [
    "# Fetch the previously generated DataFrame that was grouped by year and neighborhood\n",
    "sfo_data.head()"
   ]
  },
  {
   "cell_type": "code",
   "execution_count": null,
   "metadata": {},
   "outputs": [],
   "source": [
    "# Plotting the data from the top 10 expensive neighborhoods\n",
    "exp_nbhd1 = sfo_data[(sfo_data['neighborhood'].isin(expensive_nbhd['neighborhood']))]\n",
    "exp_nbhd1.head()"
   ]
  },
  {
   "cell_type": "code",
   "execution_count": null,
   "metadata": {},
   "outputs": [],
   "source": [
    "sidebyside_stacked = exp_nbhd1.hvplot.bar(x = 'year', \n",
    "                                          y = ['sale_price_sqr_foot', 'gross_rent'], \n",
    "                                          xlabel = 'Year',\n",
    "                                          title = 'Sales Price vs. Gross Rent in Top 10 Neighborhoods',\n",
    "                                          legend = ('top_left'),\n",
    "                                          height = 400,\n",
    "                                          width = 600,\n",
    "                                          rot = 90,\n",
    "                                          groupby = 'neighborhood')\n",
    "\n",
    "sidebyside_stacked "
   ]
  },
  {
   "cell_type": "markdown",
   "metadata": {},
   "source": [
    "- - - "
   ]
  },
  {
   "cell_type": "markdown",
   "metadata": {},
   "source": [
    "## Neighborhood Map\n",
    "\n",
    "In this section, you will read in neighborhoods location data and build an interactive map with the average house value per neighborhood. Use a `scatter_mapbox` from Plotly express to create the visualization. Remember, you will need your Mapbox API key for this."
   ]
  },
  {
   "cell_type": "markdown",
   "metadata": {},
   "source": [
    "### Load Location Data"
   ]
  },
  {
   "cell_type": "code",
   "execution_count": null,
   "metadata": {},
   "outputs": [],
   "source": [
    "# Load neighborhoods coordinates data\n",
    "\n",
    "coordinates_path = Path('Data/neighborhoods_coordinates.csv')\n",
    "coordinates_df = pd.read_csv(coordinates_path)\n",
    "coordinates_df.head()"
   ]
  },
  {
   "cell_type": "markdown",
   "metadata": {},
   "source": [
    "### Data Preparation\n",
    "\n",
    "You will need to join the location data with the mean values per neighborhood.\n",
    "\n",
    "1. Calculate the mean values for each neighborhood.\n",
    "\n",
    "2. Join the average values with the neighborhood locations."
   ]
  },
  {
   "cell_type": "code",
   "execution_count": null,
   "metadata": {},
   "outputs": [],
   "source": [
    "# Calculate the mean values for each neighborhood\n",
    "nbhd_df = sfo_data.groupby(by='neighborhood').mean()\n",
    "nbhd_df = nbhd_df.sort_values(by='neighborhood')\n",
    "nbhd_df.reset_index(inplace = True)\n",
    "nbhd_df"
   ]
  },
  {
   "cell_type": "code",
   "execution_count": null,
   "metadata": {},
   "outputs": [],
   "source": [
    "# Join the average values with the neighborhood locations\n",
    "nbhd_all_df = pd.concat([coordinates_df, \n",
    "                         nbhd_df['sale_price_sqr_foot'],\n",
    "                        nbhd_df['housing_units'],\n",
    "                        nbhd_df['gross_rent']\n",
    "                        ], axis=1).dropna()\n",
    "\n",
    "nbhd_all_df.head()"
   ]
  },
  {
   "cell_type": "markdown",
   "metadata": {},
   "source": [
    "### Mapbox Visualization\n",
    "\n",
    "Plot the average values per neighborhood using a Plotly express `scatter_mapbox` visualization."
   ]
  },
  {
   "cell_type": "code",
   "execution_count": null,
   "metadata": {},
   "outputs": [],
   "source": [
    "# Set the mapbox access token\n",
    "px.set_mapbox_access_token(map_box_api)"
   ]
  },
  {
   "cell_type": "code",
   "execution_count": null,
   "metadata": {},
   "outputs": [],
   "source": [
    "# Create a scatter mapbox to analyze neighborhood info\n",
    "map = px.scatter_mapbox(\n",
    "    nbhd_all_df,\n",
    "    lat = 'Lat',\n",
    "    lon = 'Lon',\n",
    "    size = 'sale_price_sqr_foot',\n",
    "    color = 'gross_rent',\n",
    "    color_continuous_scale = px.colors.cyclical.IceFire,\n",
    "    size_max = 15,\n",
    "    zoom = 10,\n",
    "    hover_name = \"Neighborhood\",\n",
    "    title = \"Average Sale Price Per Square Foot and Gross Rent in San Francisco\"\n",
    ")\n",
    "map.show()"
   ]
  },
  {
   "cell_type": "markdown",
   "metadata": {},
   "source": [
    "- - -"
   ]
  },
  {
   "cell_type": "markdown",
   "metadata": {},
   "source": [
    "## Cost Analysis - Optional Challenge\n",
    "\n",
    "In this section, you will use Plotly express to create visualizations that investors can use to interactively filter and explore various factors related to the house value of the San Francisco's neighborhoods. \n",
    "\n",
    "### Create a DataFrame showing the most expensive neighborhoods in San Francisco by year"
   ]
  },
  {
   "cell_type": "code",
   "execution_count": null,
   "metadata": {},
   "outputs": [],
   "source": [
    "# Fetch the data from all expensive neighborhoods per year."
   ]
  },
  {
   "cell_type": "code",
   "execution_count": null,
   "metadata": {},
   "outputs": [],
   "source": [
    "exp_nbhd2 = nbhd_df[(nbhd_df['neighborhood'].isin(expensive_nbhd['neighborhood']))]"
   ]
  },
  {
   "cell_type": "code",
   "execution_count": null,
   "metadata": {},
   "outputs": [],
   "source": [
    "exp_nbhd2.head()"
   ]
  },
  {
   "cell_type": "markdown",
   "metadata": {},
   "source": [
    "### Create a parallel coordinates plot and parallel categories plot of most expensive neighborhoods in San Francisco per year\n"
   ]
  },
  {
   "cell_type": "code",
   "execution_count": null,
   "metadata": {},
   "outputs": [],
   "source": [
    "# Parallel Categories Plot\n",
    "px.parallel_categories(\n",
    "    exp_nbhd2,\n",
    "    dimensions= ['neighborhood', 'sale_price_sqr_foot', 'housing_units', 'gross_rent'],\n",
    "    color = 'sale_price_sqr_foot',\n",
    "    color_continuous_scale = px.colors.sequential.Inferno,\n",
    "    title = 'Parallel Categories Analysis of Most Expensive Neighborhoods in SF',\n",
    "    labels= {'neighborhood': \"Neighborhood\",\n",
    "            'sale_price_sqr_foot': 'Sale Price per SqFt',\n",
    "            'housing_units': 'Housing Units',\n",
    "            'gross_rent': 'Gross Rent'}\n",
    ")"
   ]
  },
  {
   "cell_type": "code",
   "execution_count": null,
   "metadata": {},
   "outputs": [],
   "source": [
    "px.parallel_coordinates(\n",
    "    exp_nbhd2,\n",
    "    dimensions= ['neighborhood', 'sale_price_sqr_foot', 'housing_units', 'gross_rent'],\n",
    "    color = 'sale_price_sqr_foot',\n",
    "    color_continuous_scale = px.colors.sequential.Inferno,\n",
    "    title = 'Parallel Coordinates Analysis of Most Expensive Neighborhoods in SF',\n",
    "    labels= {'neighborhood': \"Neighborhood\",\n",
    "            'sale_price_sqr_foot': 'Sale Price per SqFt',\n",
    "            'housing_units': 'Housing Units',\n",
    "            'gross_rent': 'Gross Rent'}\n",
    ")"
   ]
  },
  {
   "cell_type": "markdown",
   "metadata": {},
   "source": [
    "### Create a sunburst chart to conduct a costs analysis of most expensive neighborhoods in San Francisco per year"
   ]
  },
  {
   "cell_type": "code",
   "execution_count": null,
   "metadata": {},
   "outputs": [],
   "source": [
    "# Sunburst Plot\n",
    "px.sunburst(exp_nbhd1, path=[exp_nbhd1.index, 'neighborhood'], values='sale_price_sqr_foot',\n",
    "            color='gross_rent', hover_data=['neighborhood'],\n",
    "            color_continuous_scale='RdBu',\n",
    "            color_continuous_midpoint=np.average(exp_nbhd1['gross_rent'], weights=exp_nbhd1['gross_rent']),\n",
    "            title = \"Costs Analysis of Most Expensive Neighborhoods in San Francisco per Year\"\n",
    "           )"
   ]
  }
 ],
 "metadata": {
  "file_extension": ".py",
  "kernelspec": {
   "display_name": "Python [conda env:.conda-pyvizenv] *",
   "language": "python",
   "name": "conda-env-.conda-pyvizenv-py"
  },
  "language_info": {
   "codemirror_mode": {
    "name": "ipython",
    "version": 3
   },
   "file_extension": ".py",
   "mimetype": "text/x-python",
   "name": "python",
   "nbconvert_exporter": "python",
   "pygments_lexer": "ipython3",
   "version": "3.7.10"
  },
  "mimetype": "text/x-python",
  "name": "python",
  "npconvert_exporter": "python",
  "pygments_lexer": "ipython3",
  "version": 3
 },
 "nbformat": 4,
 "nbformat_minor": 4
}
